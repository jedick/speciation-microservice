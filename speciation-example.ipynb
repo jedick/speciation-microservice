{
 "cells": [
  {
   "cell_type": "markdown",
   "id": "0a7716e3-e003-476c-be35-8bfb9099e7da",
   "metadata": {},
   "source": [
    "# Speciation Microservice example\n",
    "\n",
    "This notebook performs a speciation calculation using a Docker container running the speciate function from [AqEquil](https://github.com/worm-portal/AqEquil)."
   ]
  },
  {
   "cell_type": "markdown",
   "id": "4ac75178-d31c-4b02-aaed-27dc594cc5d5",
   "metadata": {},
   "source": [
    "## Step 0: Deploy the microservice\n",
    "\n",
    "For cloud deployment, follow the instructions in [deployment-notes.md](https://github.com/jedick/speciation-microservice/blob/main/deployment-notes.md).\n",
    "\n",
    "For local testing, follow the instructions in [README.md](https://github.com/jedick/speciation-microservice/blob/main/README.md)."
   ]
  },
  {
   "cell_type": "markdown",
   "id": "92970ebb-41fd-4f32-aac7-8a371a972ece",
   "metadata": {},
   "source": [
    "## Step 1: Load the data\n",
    "\n",
    "This downloads the CSV file for an aqueous speciation example from [WORM-Library](https://github.com/worm-portal/WORM-Library/tree/master/3-Aqueous-Speciation/1-Introduction-to-Aq-Speciation).\n",
    "The data in this file are from [Leong et al., 2021](10.1029/2020JB020756).\n",
    "\n",
    "If you would rather process a locally downloaded file, uncomment the bottom lines."
   ]
  },
  {
   "cell_type": "code",
   "execution_count": null,
   "id": "39b25eea-0b1b-48f2-b557-4d92bbc2dbae",
   "metadata": {},
   "outputs": [],
   "source": [
    "import json\n",
    "\n",
    "# Read the CSV file (remote file)\n",
    "import requests\n",
    "# URL of the remote file\n",
    "url = \"https://raw.githubusercontent.com/worm-portal/WORM-Library/refs/heads/master/3-Aqueous-Speciation/1-Introduction-to-Aq-Speciation/leong2021.csv\"\n",
    "# Fetch the file content\n",
    "response = requests.get(url)\n",
    "# Put the file content into a JSON object\n",
    "json_data = json.dumps({\"input\": response.text})\n",
    "\n",
    "# # Read the CSV file (local file)\n",
    "# with open(\"leong2021.csv\", \"r\") as file:\n",
    "#     lines = file.readlines()\n",
    "# # Convert the lines from the CSV file to JSON as a single long string in a key named 'input'\n",
    "# json_data = json.dumps({\"input\": \"\".join(lines)})"
   ]
  },
  {
   "cell_type": "markdown",
   "id": "f8c91126-4a91-4014-8be2-b3363c609d82",
   "metadata": {},
   "source": [
    "## Step 2: Run speciation calculation\n",
    "\n",
    "This sends the data to the API endpoint and stores the response.\n",
    "The speciation calculation takes some time depending on the size and complexity of the input file.\n",
    "\n",
    "NOTE: If the calculation exceeds the timeout value set in AWS Lambda, the result will be 502 (Internal Server Error)."
   ]
  },
  {
   "cell_type": "code",
   "execution_count": null,
   "id": "408f3009-a44a-47d7-ab38-725675f4d656",
   "metadata": {},
   "outputs": [],
   "source": [
    "import requests\n",
    "\n",
    "# This is the URL endpoint for the local version\n",
    "url = \"http://localhost:9000/2015-03-31/functions/function/invocations\"\n",
    "\n",
    "# If you have an AWS Lambda Function URL, put it here\n",
    "#url = \"https://<url-id>.lambda-url.<region>.on.aws/\"\n",
    "\n",
    "response = requests.post(url, json=json_data)\n",
    "\n",
    "# Print the status code\n",
    "print(f\"Response status code: {response.status_code}\")\n",
    "# Print the error message for an unsuccessful request\n",
    "if not response.status_code == 200:\n",
    "    print(response.text)"
   ]
  },
  {
   "cell_type": "markdown",
   "id": "672080bb-8e47-46a0-93e1-f1c2ae4af162",
   "metadata": {},
   "source": [
    "## Step 3: Process the result\n",
    "\n",
    "This converts the result to a Pandas DataFrame, using StringIO to simulate a file-like object."
   ]
  },
  {
   "cell_type": "code",
   "execution_count": null,
   "id": "648b6aba-4b2b-4fc5-b4f0-656e592ed102",
   "metadata": {},
   "outputs": [],
   "source": [
    "import pandas as pd\n",
    "from io import StringIO\n",
    "\n",
    "try:\n",
    "    output = response.json() # Local\n",
    "except:\n",
    "    output = response.text   # AWS Lambda Function URL\n",
    "\n",
    "df = pd.read_csv(StringIO(output[0]))\n",
    "df"
   ]
  },
  {
   "cell_type": "markdown",
   "id": "262dd044-470d-4bb3-baec-38ac9bb72ecc",
   "metadata": {},
   "source": [
    "## Step 4: Show a plot\n",
    "\n",
    "This shows a T-pH plot previously created by the handler function in app.py.\n",
    "\n",
    "TODO: persist the speciation results across calls to the lambda function in order to create arbitrary plots"
   ]
  },
  {
   "cell_type": "code",
   "execution_count": null,
   "id": "23688145-e585-4273-aa4b-abdafde03a8c",
   "metadata": {},
   "outputs": [],
   "source": [
    "import pickle\n",
    "import base64\n",
    "plot_output = pickle.loads(base64.b64decode(output[1]))\n",
    "plot_output"
   ]
  }
 ],
 "metadata": {
  "kernelspec": {
   "display_name": "Python 3 (ipykernel)",
   "language": "python",
   "name": "python3"
  },
  "language_info": {
   "codemirror_mode": {
    "name": "ipython",
    "version": 3
   },
   "file_extension": ".py",
   "mimetype": "text/x-python",
   "name": "python",
   "nbconvert_exporter": "python",
   "pygments_lexer": "ipython3",
   "version": "3.12.11"
  }
 },
 "nbformat": 4,
 "nbformat_minor": 5
}
